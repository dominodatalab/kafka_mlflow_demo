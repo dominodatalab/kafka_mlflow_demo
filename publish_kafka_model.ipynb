{
 "cells": [
  {
   "cell_type": "markdown",
   "metadata": {},
   "source": [
    "## Publish a Domino Model Endpoint\n",
    "\n",
    "Prepare for Model Deployment. You can deploy the file `kafka_model.py`. Deploying the model requires the following:-\n",
    "1. Environment Id - You can get a list of environments by invoking `list_envs` function below\n",
    "2. Python file (`kafka_model.py` in our case)\n",
    "3. Function in the Python file  (`predict` in out case)\n",
    "4. Any additional environment variables the model needs to configure itself. We pass the following:\n",
    "   - KAFKA_BOOTSTRAP_SERVERS = 'KAFKA_BOOTSTRAP_SERVERS'\n",
    "   - KAFKA_USER_NAME = 'KAFKA_USER_NAME'\n",
    "   - KAFKA_PASSWORD = 'KAFKA_PASSWORD'\n",
    "   - MODEL_TOPIC_NAME_PREFIX = 'MODEL_TOPIC_NAME_PREFIX' (There are three topics with the same prefix)\n",
    "   - INFERENCE_GROUP_ID = 'INFERENCE_GROUP_ID' (A model can have many instances to serve, each of them should use the same Consumer Group Id to ensure a Kafka message is usually processed only once)\n",
    "   - KAFKA_FEATURES_TOPIC_PARTITION_RANGE = Ex. '(0-3),10' (This instance serves partitions 0,1,2,3,10\n",
    "\n",
    "\n"
   ]
  },
  {
   "cell_type": "code",
   "execution_count": 7,
   "metadata": {
    "tags": []
   },
   "outputs": [],
   "source": [
    "from domino import Domino\n",
    "import os\n",
    "import time\n",
    "api_host = os.getenv(\"DOMINO_API_HOST\")\n",
    "project_id=os.environ['DOMINO_PROJECT_ID']\n",
    "dm_api = Domino(\n",
    "        \"{}/{}\".format(\n",
    "            os.getenv(\"DOMINO_PROJECT_OWNER\"), os.getenv(\"DOMINO_PROJECT_NAME\")\n",
    "        )\n",
    "    )\n",
    "\n",
    "def list_envs():\n",
    "    all_available_environments = dm_api.environments_list()\n",
    "    global_environments = list(\n",
    "        filter(\n",
    "            lambda x: x.get(\"visibility\") == \"Global\",\n",
    "            all_available_environments[\"data\"],\n",
    "        )\n",
    "    )\n",
    "    return all_available_environments[\"data\"]\n",
    "\n",
    "# nv_pairs is a dictionary of name/value pairs, {'name': 'value'}\n",
    "def add_env_vars(model_id, nv_pairs):\n",
    "    vars_array = [{\"name\": name, \"value\": value} for (name, value) in nv_pairs.items()]\n",
    "    request = {\"vars\": vars_array}\n",
    "    api_host = os.getenv(\"DOMINO_API_HOST\")\n",
    "    resp = dm_api.request_manager.post(\n",
    "        f\"{api_host}/models/{model_id}/environmentVariables/add\", json=request\n",
    "    )\n"
   ]
  },
  {
   "cell_type": "markdown",
   "metadata": {},
   "source": [
    "Get a list of all environments\n",
    "\n",
    "```\n",
    "[{'id': '63fa71e8e05a501c43a61ac6', 'name': 'KAFKA', 'visibility': 'Private'},\n",
    " {'id': '63f7c9e768e90a0b79d68d16',\n",
    "  'name': '5.5 Snowflake Model Export Environment (Domino Internal)',\n",
    "  'visibility': 'Global'},\n",
    " {'id': '63f7c9e768e90a0b79d68d13',\n",
    "  'name': '5.5 Spark Compute Environment',\n",
    "  'visibility': 'Global'},\n",
    " {'id': '63f7c9e768e90a0b79d68d12',\n",
    "  'name': '5.5 Spark Cluster Environment',\n",
    "  'visibility': 'Global'},\n",
    " {'id': '63f7c9e768e90a0b79d68d11',\n",
    "  'name': 'Domino Standard Environment Py3.9 R4.2',\n",
    "  'visibility': 'Global'}]\n",
    "```"
   ]
  },
  {
   "cell_type": "code",
   "execution_count": 8,
   "metadata": {
    "tags": []
   },
   "outputs": [
    {
     "data": {
      "text/plain": [
       "[{'id': '63fa71e8e05a501c43a61ac6', 'name': 'KAFKA', 'visibility': 'Private'},\n",
       " {'id': '63f7c9e768e90a0b79d68d16',\n",
       "  'name': '5.5 Snowflake Model Export Environment (Domino Internal)',\n",
       "  'visibility': 'Global'},\n",
       " {'id': '63f7c9e768e90a0b79d68d13',\n",
       "  'name': '5.5 Spark Compute Environment',\n",
       "  'visibility': 'Global'},\n",
       " {'id': '63f7c9e768e90a0b79d68d12',\n",
       "  'name': '5.5 Spark Cluster Environment',\n",
       "  'visibility': 'Global'},\n",
       " {'id': '63f7c9e768e90a0b79d68d11',\n",
       "  'name': 'Domino Standard Environment Py3.9 R4.2',\n",
       "  'visibility': 'Global'}]"
      ]
     },
     "execution_count": 8,
     "metadata": {},
     "output_type": "execute_result"
    }
   ],
   "source": [
    "list_envs()"
   ]
  },
  {
   "cell_type": "code",
   "execution_count": 9,
   "metadata": {
    "tags": []
   },
   "outputs": [],
   "source": [
    "import os\n",
    "env_id='63fa71e8e05a501c43a61ac6'\n",
    "\n",
    "model_file='kafka_model.py'\n",
    "model_function='predict'\n",
    "\n",
    "\n",
    "IS_CANARY='False'\n",
    "KAFKA_BOOTSTRAP_SERVERS = 'KAFKA_BOOTSTRAP_SERVERS'\n",
    "KAFKA_USER_NAME = 'KAFKA_USER_NAME'\n",
    "KAFKA_PASSWORD = 'KAFKA_PASSWORD'\n",
    "MODEL_TOPIC_NAME_PREFIX = 'MODEL_TOPIC_NAME_PREFIX'\n",
    "INFERENCE_GROUP_ID = 'INFERENCE_GROUP_ID'\n",
    "KAFKA_FEATURES_TOPIC_PARTITION_RANGE='KAFKA_FEATURES_TOPIC_PARTITION_RANGE'\n",
    "model_name= os.environ['DOMINO_PROJECT_NAME']\n",
    "env_variables = {\n",
    "                 KAFKA_BOOTSTRAP_SERVERS:os.environ[KAFKA_BOOTSTRAP_SERVERS],\n",
    "                 KAFKA_USER_NAME:os.environ[KAFKA_USER_NAME],\n",
    "                 KAFKA_PASSWORD:os.environ[KAFKA_PASSWORD],\n",
    "                 MODEL_TOPIC_NAME_PREFIX: model_name,\n",
    "                 INFERENCE_GROUP_ID: f'{model_name}-inference-group-id',\n",
    "                 KAFKA_FEATURES_TOPIC_PARTITION_RANGE: '0-4',\n",
    "                }\n",
    " "
   ]
  },
  {
   "cell_type": "markdown",
   "metadata": {},
   "source": [
    "## Publish Model"
   ]
  },
  {
   "cell_type": "code",
   "execution_count": 10,
   "metadata": {
    "tags": []
   },
   "outputs": [
    {
     "name": "stdout",
     "output_type": "stream",
     "text": [
      "Published Model63ffb4fd57a6942c612b61ee\n",
      "Now add env variables\n",
      "Stopped\n",
      "Sleeping for 30 seconds\n",
      "{'modelId': {'value': '63ffb4fd57a6942c612b61ee'}, 'modelVersionId': {'value': '63ffb4fd57a6942c612b61f0'}, 'status': 'Preparing to build', 'operations': [{'startTime': 1677702397663, 'lastUpdated': 1677702398285, 'sagaDescription': 'Deploy model version', 'shortStateDescription': 'Building', 'longStateDescription': 'Image Building', 'isFailure': False}], 'lastOperation': {'startTime': 1677702397663, 'lastUpdated': 1677702398285, 'sagaDescription': 'Deploy model version', 'shortStateDescription': 'Building', 'longStateDescription': 'Image Building', 'isFailure': False}, 'isPending': True}\n",
      "Sleeping for 30 seconds\n",
      "{'modelId': {'value': '63ffb4fd57a6942c612b61ee'}, 'modelVersionId': {'value': '63ffb4fd57a6942c612b61f0'}, 'status': 'Building', 'operations': [{'startTime': 1677702397663, 'lastUpdated': 1677702398285, 'sagaDescription': 'Deploy model version', 'shortStateDescription': 'Building', 'longStateDescription': 'Image Building', 'isFailure': False}], 'lastOperation': {'startTime': 1677702397663, 'lastUpdated': 1677702398285, 'sagaDescription': 'Deploy model version', 'shortStateDescription': 'Building', 'longStateDescription': 'Image Building', 'isFailure': False}, 'isPending': True}\n",
      "Sleeping for 30 seconds\n",
      "{'modelId': {'value': '63ffb4fd57a6942c612b61ee'}, 'modelVersionId': {'value': '63ffb4fd57a6942c612b61f0'}, 'status': 'Ready to run', 'operations': [{'startTime': 1677702397663, 'lastUpdated': 1677702398285, 'sagaDescription': 'Deploy model version', 'shortStateDescription': 'Building', 'longStateDescription': 'Image Building', 'isFailure': False}], 'lastOperation': {'startTime': 1677702397663, 'lastUpdated': 1677702398285, 'sagaDescription': 'Deploy model version', 'shortStateDescription': 'Building', 'longStateDescription': 'Image Building', 'isFailure': False}, 'isPending': True}\n",
      "Sleeping for 30 seconds\n",
      "{'modelId': {'value': '63ffb4fd57a6942c612b61ee'}, 'modelVersionId': {'value': '63ffb4fd57a6942c612b61f0'}, 'status': 'Ready to run', 'operations': [{'startTime': 1677702397663, 'lastUpdated': 1677702398285, 'sagaDescription': 'Deploy model version', 'shortStateDescription': 'Building', 'longStateDescription': 'Image Building', 'isFailure': False}], 'lastOperation': {'startTime': 1677702397663, 'lastUpdated': 1677702398285, 'sagaDescription': 'Deploy model version', 'shortStateDescription': 'Building', 'longStateDescription': 'Image Building', 'isFailure': False}, 'isPending': True}\n",
      "Sleeping for 30 seconds\n",
      "{'modelId': {'value': '63ffb4fd57a6942c612b61ee'}, 'modelVersionId': {'value': '63ffb4fd57a6942c612b61f0'}, 'status': 'Running', 'operations': [{'startTime': 1677702397663, 'endTime': 1677702520285, 'lastUpdated': 1677702520285, 'sagaDescription': 'Deploy model version', 'shortStateDescription': 'Build completed', 'longStateDescription': 'Image build completed', 'isFailure': False}, {'startTime': 1677702520292, 'endTime': 1677702526204, 'lastUpdated': 1677702526204, 'sagaDescription': 'Starting model version', 'shortStateDescription': 'Deployed', 'longStateDescription': 'Deploy succeeded', 'isFailure': False}], 'isPending': False}\n",
      "Running\n"
     ]
    }
   ],
   "source": [
    "published_model = dm_api.model_publish(\n",
    "        file=model_file,\n",
    "        function=model_function,\n",
    "        environment_id=env_id,\n",
    "        name=model_name,\n",
    "        description=\"Autopublish of MLFLOW model {}\".format(model_name),\n",
    "    )\n",
    "published_model_id = published_model.get(\"data\", {}).get(\"_id\")\n",
    "print(f'Published Model{published_model_id}')\n",
    "print('Now add env variables')\n",
    "\n",
    "add_env_vars(published_model_id,env_variables)\n",
    "resp = dm_api.request_manager.get(f'{api_host}/models/{published_model_id}/activeStatus',json={})\n",
    "\n",
    "status = ''\n",
    "if resp.status_code==200:\n",
    "    status = resp.json()['status']\n",
    "print(status)\n",
    "resp = dm_api.request_manager.get(\n",
    "        f\"{api_host}/models/{published_model_id}/activeStatus\", json={}\n",
    "    )\n",
    "while resp.json()['isPending']:\n",
    "    print('Sleeping for 30 seconds')\n",
    "    time.sleep(30)\n",
    "    \n",
    "    resp = dm_api.request_manager.get(\n",
    "        f\"{api_host}/models/{published_model_id}/activeStatus\", json={}\n",
    "    )\n",
    "    print(resp.json())\n",
    "status = resp.json()['status']\n",
    "print(status)"
   ]
  },
  {
   "cell_type": "code",
   "execution_count": 5,
   "metadata": {
    "tags": []
   },
   "outputs": [],
   "source": [
    "import os\n",
    "env_id='63fa71e8e05a501c43a61ac6'\n",
    "model_name_canary='demo-kafka-model-canary'\n",
    "model_file='kafka_model.py'\n",
    "model_function='predict'\n",
    "\n",
    "\n",
    "IS_CANARY='True'\n",
    "KAFKA_BOOTSTRAP_SERVERS = 'KAFKA_BOOTSTRAP_SERVERS'\n",
    "KAFKA_USER_NAME = 'KAFKA_USER_NAME'\n",
    "KAFKA_PASSWORD = 'KAFKA_PASSWORD'\n",
    "MODEL_TOPIC_NAME_PREFIX = 'MODEL_TOPIC_NAME_PREFIX'\n",
    "INFERENCE_GROUP_ID = 'INFERENCE_GROUP_ID'\n",
    "KAFKA_FEATURES_TOPIC_PARTITION_RANGE='3'\n",
    "\n",
    "env_variables = {\n",
    "                 KAFKA_BOOTSTRAP_SERVERS:os.environ[KAFKA_BOOTSTRAP_SERVERS],\n",
    "                 KAFKA_USER_NAME:os.environ[KAFKA_USER_NAME],\n",
    "                 KAFKA_PASSWORD:os.environ[KAFKA_PASSWORD],\n",
    "                 MODEL_TOPIC_NAME_PREFIX: model,\n",
    "                 INFERENCE_GROUP_ID: f'{model}-inference-group-id',\n",
    "                 KAFKA_FEATURES_TOPIC_PARTITION_RANGE: KAFKA_FEATURES_TOPIC_PARTITION_RANGE,\n",
    "                }\n",
    " "
   ]
  },
  {
   "cell_type": "code",
   "execution_count": null,
   "metadata": {},
   "outputs": [],
   "source": [
    "published_model = dm_api.model_publish(\n",
    "        file=model_file,\n",
    "        function=model_function,\n",
    "        environment_id=env_id,\n",
    "        name=model_name_canary,\n",
    "        description=\"Autopublish of MLFLOW model {}\".format(model_name),\n",
    "    )\n",
    "published_model_id = published_model.get(\"data\", {}).get(\"_id\")\n",
    "print(published_model_id)\n",
    "print('Now add env variables')\n",
    "\n",
    "add_env_vars(published_model_id,env_variables)\n",
    "resp = dm_api.request_manager.get(f'{api_host}/models/{published_model_id}/activeStatus',json={})\n",
    "\n",
    "status = ''\n",
    "if resp.status_code==200:\n",
    "    status = resp.json()['status']\n",
    "print(status)\n",
    "resp = dm_api.request_manager.get(\n",
    "        f\"{api_host}/models/{published_model_id}/activeStatus\", json={}\n",
    "    )\n",
    "while resp.json()['isPending']:\n",
    "    print('Sleeping for 30 seconds')\n",
    "    time.sleep(30)\n",
    "    \n",
    "    resp = dm_api.request_manager.get(\n",
    "        f\"{api_host}/models/{published_model_id}/activeStatus\", json={}\n",
    "    )\n",
    "    print(resp.json())\n",
    "status = resp.json()['status']\n",
    "print(status)"
   ]
  }
 ],
 "metadata": {
  "kernelspec": {
   "display_name": "Python 3 (ipykernel)",
   "language": "python",
   "name": "python3"
  },
  "language_info": {
   "codemirror_mode": {
    "name": "ipython",
    "version": 3
   },
   "file_extension": ".py",
   "mimetype": "text/x-python",
   "name": "python",
   "nbconvert_exporter": "python",
   "pygments_lexer": "ipython3",
   "version": "3.9.16"
  }
 },
 "nbformat": 4,
 "nbformat_minor": 4
}
